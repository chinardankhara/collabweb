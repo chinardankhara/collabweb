{
 "cells": [
  {
   "cell_type": "code",
   "execution_count": null,
   "id": "7a6678dd",
   "metadata": {
    "scrolled": true
   },
   "outputs": [],
   "source": [
    "'''import json\n",
    "\n",
    "found = False\n",
    "\n",
    "#print the first 5 rows of the part_000.json\n",
    "with open('part_000.json') as f:\n",
    "    for i in range(20):\n",
    "        #print(json.loads(f.readline()))\n",
    "        line = json.loads(f.readline())\n",
    "        if line['display_name'] == 'Penn State DuBois':\n",
    "            print(\"country code: \", line['country_code'])\n",
    "            print(\"number of publish work: \", line['works_count'])\n",
    "            found = True\n",
    "    if found == False:\n",
    "        print(\"It's not available\")'''\n",
    "        "
   ]
  },
  {
   "cell_type": "code",
   "execution_count": 6,
   "id": "66d04cf9",
   "metadata": {},
   "outputs": [
    {
     "name": "stdout",
     "output_type": "stream",
     "text": [
      "[{'id': 'https://openalex.org/I130701444', 'ror': 'https://ror.org/01zkghx44', 'display_name': 'Georgia Institute of Technology', 'country_code': 'US', 'type': 'education', 'homepage_url': 'http://www.gatech.edu/', 'image_url': 'https://upload.wikimedia.org/wikipedia/commons/6/6c/Georgia_Tech_seal.svg', 'image_thumbnail_url': 'https://upload.wikimedia.org/wikipedia/commons/thumb/6/6c/Georgia_Tech_seal.svg/100px-Georgia_Tech_seal.svg.png', 'display_name_acronyms': ['GT'], 'display_name_alternatives': ['Georgia Tech'], 'works_count': 123121, 'cited_by_count': 9055580, 'ids': {'openalex': 'https://openalex.org/I130701444', 'ror': 'https://ror.org/01zkghx44', 'mag': '130701444', 'grid': 'grid.213917.f', 'wikipedia': 'https://en.wikipedia.org/wiki/Georgia%20Tech', 'wikidata': 'https://www.wikidata.org/wiki/Q864855'}, 'geo': {'city': 'Atlanta', 'geonames_city_id': '4180439', 'region': 'Georgia', 'country_code': 'US', 'country': 'United States', 'latitude': 33.775887, 'longitude': -84.39629}, 'international': {'display_name': {'ar': 'معهد جورجيا التقني', 'ast': 'Institutu de Teunoloxía de Xeoxia', 'az': 'Corciya Texnologiya İnstitutu', 'be': 'Тэхналагічны інстытут Джорджыі', 'be-tarask': 'Джарджыйскі тэхнічны ўнівэрсытэт', 'bg': 'Джорджия Тек', 'bn': 'জর্জিয়া ইনস্টিটিউট অব টেকনোলজি', 'ca': 'Institut de Tecnologia de Geòrgia', 'cs': 'Georgia Institute of Technology', 'cy': 'Sefydliad Technoleg Georgia', 'da': 'Georgia Institute of Technology', 'de': 'Georgia Institute of Technology', 'el': 'Ινστιτούτο Τεχνολογίας της Τζόρτζια', 'en': 'Georgia Institute of Technology', 'eo': 'Georgia Instituto de Teknologio', 'es': 'Instituto de Tecnología de Georgia', 'fa': 'مؤسسه فناوری جورجیا', 'fi': 'Georgia Institute of Technology', 'fr': 'Georgia Institute of Technology', 'ga': 'Institiúid Teicneolaíochta Georgia', 'gd': 'Institiuid Teicneolas Georgia', 'gl': 'Instituto de Tecnoloxía de Xeorxia', 'he': \"המכון הטכנולוגי של ג'ורג'יה\", 'hr': 'Tehnološki institut Georgija', 'hu': 'Georgia Institute of Technology', 'hy': 'Ջորջիայի տեխնոլոգիական ինստիտուտ', 'id': 'Georgia Institute of Technology', 'it': 'Georgia Institute of Technology', 'ja': 'ジョージア工科大学', 'kk': 'Джорджия технологиялық университеті', 'ko': '조지아 공과대학교', 'ky': 'Жоржия Технология Институту', 'mr': 'जॉर्जिया इन्स्टिट्यूट ऑफ टेक्नॉलॉजी', 'ms': 'Institut Teknologi Georgia', 'nb': 'Georgia Institute of Technology', 'nl': 'Georgia Institute of Technology', 'oc': 'Georgia Institute of Technology', 'pl': 'Georgia Institute of Technology', 'pt': 'Instituto de Tecnologia da Geórgia', 'ru': 'Технологический институт Джорджии', 'sr': 'Технолошки институт Џорџије', 'sv': 'Georgia Institute of Technology', 'ta': 'ஜோர்ஜியா தொழில்நுட்பப் பல்கலைக்கழகம்', 'tg': 'Институти технолгии Ҷорҷия', 'th': 'สถาบันเทคโนโลยีจอร์เจีย', 'tl': 'Georgia Institute of Technology', 'tr': 'Georgia Teknoloji Enstitüsü', 'tt': 'Җорҗия технология университеты', 'uk': 'Технологічний інститут Джорджії', 'ur': 'جارجیا انسٹیٹیوٹ آف ٹیکنالوجی', 'vi': 'Học viện Công nghệ Georgia', 'yue': '佐治亞理工學院', 'zh': '佐治亚理工学院', 'zh-hans': '佐治亚理工学院', 'zh-hant': '佐治亞理工學院', 'zh-hk': '佐治亞理工學院', 'zh-tw': '喬治亞理工學院'}}, 'associated_institutions': [{'id': 'https://openalex.org/I4210133909', 'ror': 'https://ror.org/02qx6zf82', 'display_name': 'Center for Translational Research in Neuroimaging and Data Science', 'country_code': 'US', 'type': 'facility', 'relationship': 'child'}, {'id': 'https://openalex.org/I4210101104', 'ror': 'https://ror.org/013b2jw60', 'display_name': 'Georgia Space Grant Consortium', 'country_code': 'US', 'type': 'other', 'relationship': 'child'}, {'id': 'https://openalex.org/I4210089931', 'ror': 'https://ror.org/00avmbz91', 'display_name': 'Georgia Tech-CNRS Laboratory', 'country_code': 'FR', 'type': 'facility', 'relationship': 'child'}, {'id': 'https://openalex.org/I2802612298', 'ror': 'https://ror.org/02j15s898', 'display_name': 'The Wallace H. Coulter Department of Biomedical Engineering', 'country_code': 'US', 'type': 'education', 'relationship': 'child'}, {'id': 'https://openalex.org/I1289702989', 'ror': 'https://ror.org/017wcm924', 'display_name': 'University System of Georgia', 'country_code': 'US', 'type': 'education', 'relationship': 'parent'}, {'id': 'https://openalex.org/I1288283403', 'ror': 'https://ror.org/02m5dy175', 'display_name': 'Georgia Tech Lorraine', 'country_code': 'FR', 'type': 'education', 'relationship': 'related'}], 'counts_by_year': [{'year': 2022, 'works_count': 3631, 'cited_by_count': 676440}, {'year': 2021, 'works_count': 6572, 'cited_by_count': 940894}, {'year': 2020, 'works_count': 6650, 'cited_by_count': 841863}, {'year': 2019, 'works_count': 6739, 'cited_by_count': 768550}, {'year': 2018, 'works_count': 6134, 'cited_by_count': 683827}, {'year': 2017, 'works_count': 5854, 'cited_by_count': 592601}, {'year': 2016, 'works_count': 5569, 'cited_by_count': 548034}, {'year': 2015, 'works_count': 5454, 'cited_by_count': 513801}, {'year': 2014, 'works_count': 5327, 'cited_by_count': 480797}, {'year': 2013, 'works_count': 5274, 'cited_by_count': 440680}, {'year': 2012, 'works_count': 5019, 'cited_by_count': 394761}], 'x_concepts': [{'id': 'https://openalex.org/C121332964', 'wikidata': 'https://www.wikidata.org/wiki/Q413', 'display_name': 'Physics', 'level': 0, 'score': 66.8}, {'id': 'https://openalex.org/C127413603', 'wikidata': 'https://www.wikidata.org/wiki/Q11023', 'display_name': 'Engineering', 'level': 0, 'score': 64.5}, {'id': 'https://openalex.org/C41008148', 'wikidata': 'https://www.wikidata.org/wiki/Q21198', 'display_name': 'Computer science', 'level': 0, 'score': 64.0}, {'id': 'https://openalex.org/C62520636', 'wikidata': 'https://www.wikidata.org/wiki/Q944', 'display_name': 'Quantum mechanics', 'level': 1, 'score': 49.0}, {'id': 'https://openalex.org/C33923547', 'wikidata': 'https://www.wikidata.org/wiki/Q395', 'display_name': 'Mathematics', 'level': 0, 'score': 46.5}, {'id': 'https://openalex.org/C86803240', 'wikidata': 'https://www.wikidata.org/wiki/Q420', 'display_name': 'Biology', 'level': 0, 'score': 42.6}, {'id': 'https://openalex.org/C185592680', 'wikidata': 'https://www.wikidata.org/wiki/Q2329', 'display_name': 'Chemistry', 'level': 0, 'score': 40.9}, {'id': 'https://openalex.org/C192562407', 'wikidata': 'https://www.wikidata.org/wiki/Q228736', 'display_name': 'Materials science', 'level': 0, 'score': 39.5}, {'id': 'https://openalex.org/C178790620', 'wikidata': 'https://www.wikidata.org/wiki/Q11351', 'display_name': 'Organic chemistry', 'level': 1, 'score': 28.2}, {'id': 'https://openalex.org/C97355855', 'wikidata': 'https://www.wikidata.org/wiki/Q11473', 'display_name': 'Thermodynamics', 'level': 1, 'score': 27.2}, {'id': 'https://openalex.org/C154945302', 'wikidata': 'https://www.wikidata.org/wiki/Q11660', 'display_name': 'Artificial intelligence', 'level': 1, 'score': 26.3}, {'id': 'https://openalex.org/C119599485', 'wikidata': 'https://www.wikidata.org/wiki/Q43035', 'display_name': 'Electrical engineering', 'level': 1, 'score': 25.5}, {'id': 'https://openalex.org/C159985019', 'wikidata': 'https://www.wikidata.org/wiki/Q181790', 'display_name': 'Composite material', 'level': 1, 'score': 25.0}, {'id': 'https://openalex.org/C111919701', 'wikidata': 'https://www.wikidata.org/wiki/Q9135', 'display_name': 'Operating system', 'level': 1, 'score': 23.9}, {'id': 'https://openalex.org/C162324750', 'wikidata': 'https://www.wikidata.org/wiki/Q8134', 'display_name': 'Economics', 'level': 0, 'score': 22.5}, {'id': 'https://openalex.org/C127313418', 'wikidata': 'https://www.wikidata.org/wiki/Q1069', 'display_name': 'Geology', 'level': 0, 'score': 21.6}, {'id': 'https://openalex.org/C71924100', 'wikidata': 'https://www.wikidata.org/wiki/Q11190', 'display_name': 'Medicine', 'level': 0, 'score': 21.1}, {'id': 'https://openalex.org/C205649164', 'wikidata': 'https://www.wikidata.org/wiki/Q1071', 'display_name': 'Geography', 'level': 0, 'score': 21.1}, {'id': 'https://openalex.org/C199360897', 'wikidata': 'https://www.wikidata.org/wiki/Q9143', 'display_name': 'Programming language', 'level': 1, 'score': 20.3}], 'works_api_url': 'https://api.openalex.org/works?filter=institutions.id:I130701444', 'updated_date': '2022-10-20T11:02:48.920993', 'created_date': '2016-06-24'}]\n",
      "[]\n",
      "[{'meta': {'count': 1, 'db_response_time_ms': 1, 'page': 1, 'per_page': 25}, 'results': [{'id': 'https://openalex.org/I130701444', 'ror': 'https://ror.org/01zkghx44', 'display_name': 'Georgia Institute of Technology', 'country_code': 'US', 'type': 'education', 'homepage_url': 'http://www.gatech.edu/', 'image_url': 'https://upload.wikimedia.org/wikipedia/commons/6/6c/Georgia_Tech_seal.svg', 'image_thumbnail_url': 'https://upload.wikimedia.org/wikipedia/commons/thumb/6/6c/Georgia_Tech_seal.svg/100px-Georgia_Tech_seal.svg.png', 'display_name_acronyms': ['GT'], 'display_name_alternatives': ['Georgia Tech'], 'works_count': 123121, 'cited_by_count': 9055580, 'ids': {'openalex': 'https://openalex.org/I130701444', 'ror': 'https://ror.org/01zkghx44', 'mag': '130701444', 'grid': 'grid.213917.f', 'wikipedia': 'https://en.wikipedia.org/wiki/Georgia%20Tech', 'wikidata': 'https://www.wikidata.org/wiki/Q864855'}, 'geo': {'city': 'Atlanta', 'geonames_city_id': '4180439', 'region': 'Georgia', 'country_code': 'US', 'country': 'United States', 'latitude': 33.775887, 'longitude': -84.39629}, 'international': {'display_name': {'ar': 'معهد جورجيا التقني', 'ast': 'Institutu de Teunoloxía de Xeoxia', 'az': 'Corciya Texnologiya İnstitutu', 'be': 'Тэхналагічны інстытут Джорджыі', 'be-tarask': 'Джарджыйскі тэхнічны ўнівэрсытэт', 'bg': 'Джорджия Тек', 'bn': 'জর্জিয়া ইনস্টিটিউট অব টেকনোলজি', 'ca': 'Institut de Tecnologia de Geòrgia', 'cs': 'Georgia Institute of Technology', 'cy': 'Sefydliad Technoleg Georgia', 'da': 'Georgia Institute of Technology', 'de': 'Georgia Institute of Technology', 'el': 'Ινστιτούτο Τεχνολογίας της Τζόρτζια', 'en': 'Georgia Institute of Technology', 'eo': 'Georgia Instituto de Teknologio', 'es': 'Instituto de Tecnología de Georgia', 'fa': 'مؤسسه فناوری جورجیا', 'fi': 'Georgia Institute of Technology', 'fr': 'Georgia Institute of Technology', 'ga': 'Institiúid Teicneolaíochta Georgia', 'gd': 'Institiuid Teicneolas Georgia', 'gl': 'Instituto de Tecnoloxía de Xeorxia', 'he': \"המכון הטכנולוגי של ג'ורג'יה\", 'hr': 'Tehnološki institut Georgija', 'hu': 'Georgia Institute of Technology', 'hy': 'Ջորջիայի տեխնոլոգիական ինստիտուտ', 'id': 'Georgia Institute of Technology', 'it': 'Georgia Institute of Technology', 'ja': 'ジョージア工科大学', 'kk': 'Джорджия технологиялық университеті', 'ko': '조지아 공과대학교', 'ky': 'Жоржия Технология Институту', 'mr': 'जॉर्जिया इन्स्टिट्यूट ऑफ टेक्नॉलॉजी', 'ms': 'Institut Teknologi Georgia', 'nb': 'Georgia Institute of Technology', 'nl': 'Georgia Institute of Technology', 'oc': 'Georgia Institute of Technology', 'pl': 'Georgia Institute of Technology', 'pt': 'Instituto de Tecnologia da Geórgia', 'ru': 'Технологический институт Джорджии', 'sr': 'Технолошки институт Џорџије', 'sv': 'Georgia Institute of Technology', 'ta': 'ஜோர்ஜியா தொழில்நுட்பப் பல்கலைக்கழகம்', 'tg': 'Институти технолгии Ҷорҷия', 'th': 'สถาบันเทคโนโลยีจอร์เจีย', 'tl': 'Georgia Institute of Technology', 'tr': 'Georgia Teknoloji Enstitüsü', 'tt': 'Җорҗия технология университеты', 'uk': 'Технологічний інститут Джорджії', 'ur': 'جارجیا انسٹیٹیوٹ آف ٹیکنالوجی', 'vi': 'Học viện Công nghệ Georgia', 'yue': '佐治亞理工學院', 'zh': '佐治亚理工学院', 'zh-hans': '佐治亚理工学院', 'zh-hant': '佐治亞理工學院', 'zh-hk': '佐治亞理工學院', 'zh-tw': '喬治亞理工學院'}}, 'associated_institutions': [{'id': 'https://openalex.org/I4210133909', 'ror': 'https://ror.org/02qx6zf82', 'display_name': 'Center for Translational Research in Neuroimaging and Data Science', 'country_code': 'US', 'type': 'facility', 'relationship': 'child'}, {'id': 'https://openalex.org/I4210101104', 'ror': 'https://ror.org/013b2jw60', 'display_name': 'Georgia Space Grant Consortium', 'country_code': 'US', 'type': 'other', 'relationship': 'child'}, {'id': 'https://openalex.org/I4210089931', 'ror': 'https://ror.org/00avmbz91', 'display_name': 'Georgia Tech-CNRS Laboratory', 'country_code': 'FR', 'type': 'facility', 'relationship': 'child'}, {'id': 'https://openalex.org/I2802612298', 'ror': 'https://ror.org/02j15s898', 'display_name': 'The Wallace H. Coulter Department of Biomedical Engineering', 'country_code': 'US', 'type': 'education', 'relationship': 'child'}, {'id': 'https://openalex.org/I1289702989', 'ror': 'https://ror.org/017wcm924', 'display_name': 'University System of Georgia', 'country_code': 'US', 'type': 'education', 'relationship': 'parent'}, {'id': 'https://openalex.org/I1288283403', 'ror': 'https://ror.org/02m5dy175', 'display_name': 'Georgia Tech Lorraine', 'country_code': 'FR', 'type': 'education', 'relationship': 'related'}], 'counts_by_year': [{'year': 2022, 'works_count': 3631, 'cited_by_count': 676440}, {'year': 2021, 'works_count': 6572, 'cited_by_count': 940894}, {'year': 2020, 'works_count': 6650, 'cited_by_count': 841863}, {'year': 2019, 'works_count': 6739, 'cited_by_count': 768550}, {'year': 2018, 'works_count': 6134, 'cited_by_count': 683827}, {'year': 2017, 'works_count': 5854, 'cited_by_count': 592601}, {'year': 2016, 'works_count': 5569, 'cited_by_count': 548034}, {'year': 2015, 'works_count': 5454, 'cited_by_count': 513801}, {'year': 2014, 'works_count': 5327, 'cited_by_count': 480797}, {'year': 2013, 'works_count': 5274, 'cited_by_count': 440680}, {'year': 2012, 'works_count': 5019, 'cited_by_count': 394761}], 'x_concepts': [{'id': 'https://openalex.org/C121332964', 'wikidata': 'https://www.wikidata.org/wiki/Q413', 'display_name': 'Physics', 'level': 0, 'score': 66.8}, {'id': 'https://openalex.org/C127413603', 'wikidata': 'https://www.wikidata.org/wiki/Q11023', 'display_name': 'Engineering', 'level': 0, 'score': 64.5}, {'id': 'https://openalex.org/C41008148', 'wikidata': 'https://www.wikidata.org/wiki/Q21198', 'display_name': 'Computer science', 'level': 0, 'score': 64.0}, {'id': 'https://openalex.org/C62520636', 'wikidata': 'https://www.wikidata.org/wiki/Q944', 'display_name': 'Quantum mechanics', 'level': 1, 'score': 49.0}, {'id': 'https://openalex.org/C33923547', 'wikidata': 'https://www.wikidata.org/wiki/Q395', 'display_name': 'Mathematics', 'level': 0, 'score': 46.5}, {'id': 'https://openalex.org/C86803240', 'wikidata': 'https://www.wikidata.org/wiki/Q420', 'display_name': 'Biology', 'level': 0, 'score': 42.6}, {'id': 'https://openalex.org/C185592680', 'wikidata': 'https://www.wikidata.org/wiki/Q2329', 'display_name': 'Chemistry', 'level': 0, 'score': 40.9}, {'id': 'https://openalex.org/C192562407', 'wikidata': 'https://www.wikidata.org/wiki/Q228736', 'display_name': 'Materials science', 'level': 0, 'score': 39.5}, {'id': 'https://openalex.org/C178790620', 'wikidata': 'https://www.wikidata.org/wiki/Q11351', 'display_name': 'Organic chemistry', 'level': 1, 'score': 28.2}, {'id': 'https://openalex.org/C97355855', 'wikidata': 'https://www.wikidata.org/wiki/Q11473', 'display_name': 'Thermodynamics', 'level': 1, 'score': 27.2}, {'id': 'https://openalex.org/C154945302', 'wikidata': 'https://www.wikidata.org/wiki/Q11660', 'display_name': 'Artificial intelligence', 'level': 1, 'score': 26.3}, {'id': 'https://openalex.org/C119599485', 'wikidata': 'https://www.wikidata.org/wiki/Q43035', 'display_name': 'Electrical engineering', 'level': 1, 'score': 25.5}, {'id': 'https://openalex.org/C159985019', 'wikidata': 'https://www.wikidata.org/wiki/Q181790', 'display_name': 'Composite material', 'level': 1, 'score': 25.0}, {'id': 'https://openalex.org/C111919701', 'wikidata': 'https://www.wikidata.org/wiki/Q9135', 'display_name': 'Operating system', 'level': 1, 'score': 23.9}, {'id': 'https://openalex.org/C162324750', 'wikidata': 'https://www.wikidata.org/wiki/Q8134', 'display_name': 'Economics', 'level': 0, 'score': 22.5}, {'id': 'https://openalex.org/C127313418', 'wikidata': 'https://www.wikidata.org/wiki/Q1069', 'display_name': 'Geology', 'level': 0, 'score': 21.6}, {'id': 'https://openalex.org/C71924100', 'wikidata': 'https://www.wikidata.org/wiki/Q11190', 'display_name': 'Medicine', 'level': 0, 'score': 21.1}, {'id': 'https://openalex.org/C205649164', 'wikidata': 'https://www.wikidata.org/wiki/Q1071', 'display_name': 'Geography', 'level': 0, 'score': 21.1}, {'id': 'https://openalex.org/C199360897', 'wikidata': 'https://www.wikidata.org/wiki/Q9143', 'display_name': 'Programming language', 'level': 1, 'score': 20.3}], 'works_api_url': 'https://api.openalex.org/works?filter=institutions.id:I130701444', 'updated_date': '2022-10-20T11:02:48.920993', 'created_date': '2016-06-24'}], 'group_by': []}]\n"
     ]
    },
    {
     "name": "stdout",
     "output_type": "stream",
     "text": [
      "[{'meta': {'count': 1, 'db_response_time_ms': 1, 'page': 2, 'per_page': 25}, 'results': [], 'group_by': []}]\n",
      "[{'meta': {'count': 1, 'db_response_time_ms': 1, 'page': 3, 'per_page': 25}, 'results': [], 'group_by': []}]\n",
      "[{'meta': {'count': 1, 'db_response_time_ms': 1, 'page': 4, 'per_page': 25}, 'results': [], 'group_by': []}]\n",
      "[{'meta': {'count': 1, 'db_response_time_ms': 0, 'page': 5, 'per_page': 25}, 'results': [], 'group_by': []}]\n",
      "[{'meta': {'count': 1, 'db_response_time_ms': 1, 'page': 6, 'per_page': 25}, 'results': [], 'group_by': []}]\n",
      "[{'meta': {'count': 1, 'db_response_time_ms': 0, 'page': 7, 'per_page': 25}, 'results': [], 'group_by': []}]\n",
      "[{'meta': {'count': 1, 'db_response_time_ms': 1, 'page': 8, 'per_page': 25}, 'results': [], 'group_by': []}]\n",
      "[{'meta': {'count': 1, 'db_response_time_ms': 0, 'page': 9, 'per_page': 25}, 'results': [], 'group_by': []}]\n"
     ]
    }
   ],
   "source": [
    "'''from diophila import OpenAlex\n",
    "import json\n",
    "\n",
    "connection = OpenAlex('pduong7@gatech.edu') #input your own email here\n",
    "ifilter = {\"display_name\": \"Georgia Institute of Technology\"}\n",
    "x = connection.get_list_of_institutions(filters = ifilter)\n",
    "x = list(x)[0]['results']\n",
    "print(x)\n",
    "\n",
    "wfilter = {'authorships.institutions.id': 'https://openalex.org/I130701444'}\n",
    "for i in range(10):\n",
    "    y = connection.get_list_of_institutions(filters = ifilter, pages = [i])\n",
    "    print(list(y))'''"
   ]
  },
  {
   "cell_type": "code",
   "execution_count": 2,
   "id": "4669b61b",
   "metadata": {},
   "outputs": [],
   "source": [
    "#pull all and save as json\n",
    "from diophila import OpenAlex\n",
    "import json\n",
    "\n",
    "conn = OpenAlex('pduong7@gatech.edu') #input your own email here\n",
    "\n",
    "work_filters = {'authorships.institutions.id':'https://openalex.org/I130701444', 'is_paratext': False, 'is_retracted': False}\n",
    "page_list = list(range(1, 11))\n",
    "papers = list(conn.get_list_of_works(filters = work_filters, pages = page_list, per_page = 200))\n",
    "\n",
    "papers = [i['results'] for i in papers]\n",
    "retlist = [j for i in papers for j in i]\n",
    "    \n",
    "with open('works_data.json', 'w') as f:\n",
    "  f.write(json.dumps(retlist))"
   ]
  },
  {
   "cell_type": "code",
   "execution_count": 1,
   "id": "722474e8",
   "metadata": {},
   "outputs": [
    {
     "name": "stdout",
     "output_type": "stream",
     "text": [
      "('id', 'https://openalex.org/W2962858109')\n",
      "('doi', 'https://doi.org/10.1109/iccv.2017.74')\n",
      "('title', 'Grad-CAM: Visual Explanations from Deep Networks via Gradient-Based Localization')\n",
      "('display_name', 'Grad-CAM: Visual Explanations from Deep Networks via Gradient-Based Localization')\n",
      "('publication_year', 2017)\n",
      "('publication_date', '2017-10-01')\n",
      "('ids', {'openalex': 'https://openalex.org/W2962858109', 'doi': 'https://doi.org/10.1109/iccv.2017.74', 'mag': '2962858109'})\n",
      "('host_venue', {'id': 'https://openalex.org/V4306419272', 'issn_l': None, 'issn': None, 'display_name': 'International Conference on Computer Vision', 'publisher': 'IEEE Computer Society', 'type': 'repository', 'url': 'https://doi.org/10.1109/iccv.2017.74', 'is_oa': True, 'version': 'submittedVersion', 'license': None})\n",
      "('type', 'proceedings-article')\n",
      "('open_access', {'is_oa': True, 'oa_status': 'green', 'oa_url': 'http://arxiv.org/pdf/1610.02391'})\n",
      "('authorships', [{'author_position': 'first', 'author': {'id': 'https://openalex.org/A2531025681', 'display_name': 'Ramprasaath R. Selvaraju', 'orcid': None}, 'institutions': [{'id': 'https://openalex.org/I859038795', 'display_name': 'Virginia Tech', 'ror': 'https://ror.org/02smfhw86', 'country_code': 'US', 'type': 'education'}], 'raw_affiliation_string': None}, {'author_position': 'middle', 'author': {'id': 'https://openalex.org/A2106263932', 'display_name': 'Michael Cogswell', 'orcid': None}, 'institutions': [{'id': 'https://openalex.org/I130701444', 'display_name': 'Georgia Institute of Technology', 'ror': 'https://ror.org/01zkghx44', 'country_code': 'US', 'type': 'education'}], 'raw_affiliation_string': None}, {'author_position': 'middle', 'author': {'id': 'https://openalex.org/A2786888888', 'display_name': 'Abhishek Das', 'orcid': None}, 'institutions': [{'id': 'https://openalex.org/I130701444', 'display_name': 'Georgia Institute of Technology', 'ror': 'https://ror.org/01zkghx44', 'country_code': 'US', 'type': 'education'}], 'raw_affiliation_string': None}, {'author_position': 'middle', 'author': {'id': 'https://openalex.org/A2032368582', 'display_name': 'Ramakrishna Vedantam', 'orcid': None}, 'institutions': [{'id': 'https://openalex.org/I859038795', 'display_name': 'Virginia Tech', 'ror': 'https://ror.org/02smfhw86', 'country_code': 'US', 'type': 'education'}], 'raw_affiliation_string': None}, {'author_position': 'middle', 'author': {'id': 'https://openalex.org/A2223275083', 'display_name': 'Devi Parikh', 'orcid': None}, 'institutions': [{'id': 'https://openalex.org/I2252078561', 'display_name': 'Facebook', 'ror': 'https://ror.org/02388em19', 'country_code': 'IL', 'type': 'company'}], 'raw_affiliation_string': None}, {'author_position': 'last', 'author': {'id': 'https://openalex.org/A2098683697', 'display_name': 'Dhruv Batra', 'orcid': None}, 'institutions': [{'id': 'https://openalex.org/I859038795', 'display_name': 'Virginia Tech', 'ror': 'https://ror.org/02smfhw86', 'country_code': 'US', 'type': 'education'}], 'raw_affiliation_string': None}])\n",
      "('cited_by_count', 5122)\n",
      "('biblio', {'volume': None, 'issue': None, 'first_page': None, 'last_page': None})\n",
      "('is_retracted', False)\n",
      "('is_paratext', False)\n",
      "('concepts', [{'id': 'https://openalex.org/C157657479', 'wikidata': 'https://www.wikidata.org/wiki/Q2367247', 'display_name': 'Closed captioning', 'level': 3, 'score': '0.94829226'}, {'id': 'https://openalex.org/C41008148', 'wikidata': 'https://www.wikidata.org/wiki/Q21198', 'display_name': 'Computer science', 'level': 0, 'score': '0.82037914'}, {'id': 'https://openalex.org/C97931131', 'wikidata': 'https://www.wikidata.org/wiki/Q5282087', 'display_name': 'Discriminative model', 'level': 2, 'score': '0.7655745'}, {'id': 'https://openalex.org/C81363708', 'wikidata': 'https://www.wikidata.org/wiki/Q17084460', 'display_name': 'Convolutional neural network', 'level': 2, 'score': '0.7078301'}, {'id': 'https://openalex.org/C154945302', 'wikidata': 'https://www.wikidata.org/wiki/Q11660', 'display_name': 'Artificial intelligence', 'level': 1, 'score': '0.6693311'}, {'id': 'https://openalex.org/C36464697', 'wikidata': 'https://www.wikidata.org/wiki/Q451553', 'display_name': 'Visualization', 'level': 2, 'score': '0.6636683'}, {'id': 'https://openalex.org/C177148314', 'wikidata': 'https://www.wikidata.org/wiki/Q170084', 'display_name': 'Generalization', 'level': 2, 'score': '0.58897734'}, {'id': 'https://openalex.org/C2777212361', 'wikidata': 'https://www.wikidata.org/wiki/Q5127848', 'display_name': 'Class (philosophy)', 'level': 2, 'score': '0.56722414'}, {'id': 'https://openalex.org/C44291984', 'wikidata': 'https://www.wikidata.org/wiki/Q1074173', 'display_name': 'Question answering', 'level': 2, 'score': '0.56175464'}, {'id': 'https://openalex.org/C2779343474', 'wikidata': 'https://www.wikidata.org/wiki/Q3109175', 'display_name': 'Context (archaeology)', 'level': 2, 'score': '0.5170244'}, {'id': 'https://openalex.org/C75294576', 'wikidata': 'https://www.wikidata.org/wiki/Q5165192', 'display_name': 'Contextual image classification', 'level': 3, 'score': '0.4847969'}, {'id': 'https://openalex.org/C153180895', 'wikidata': 'https://www.wikidata.org/wiki/Q7148389', 'display_name': 'Pattern recognition (psychology)', 'level': 2, 'score': '0.47549567'}, {'id': 'https://openalex.org/C115961682', 'wikidata': 'https://www.wikidata.org/wiki/Q860623', 'display_name': 'Image (mathematics)', 'level': 2, 'score': '0.4615076'}, {'id': 'https://openalex.org/C2780451532', 'wikidata': 'https://www.wikidata.org/wiki/Q759676', 'display_name': 'Task (project management)', 'level': 2, 'score': '0.45950055'}, {'id': 'https://openalex.org/C119857082', 'wikidata': 'https://www.wikidata.org/wiki/Q2539', 'display_name': 'Machine learning', 'level': 1, 'score': '0.43870467'}, {'id': 'https://openalex.org/C134306372', 'wikidata': 'https://www.wikidata.org/wiki/Q7754', 'display_name': 'Mathematical analysis', 'level': 1, 'score': '0.0'}, {'id': 'https://openalex.org/C151730666', 'wikidata': 'https://www.wikidata.org/wiki/Q7205', 'display_name': 'Paleontology', 'level': 1, 'score': '0.0'}, {'id': 'https://openalex.org/C33923547', 'wikidata': 'https://www.wikidata.org/wiki/Q395', 'display_name': 'Mathematics', 'level': 0, 'score': '0.0'}, {'id': 'https://openalex.org/C187736073', 'wikidata': 'https://www.wikidata.org/wiki/Q2920921', 'display_name': 'Management', 'level': 1, 'score': '0.0'}, {'id': 'https://openalex.org/C162324750', 'wikidata': 'https://www.wikidata.org/wiki/Q8134', 'display_name': 'Economics', 'level': 0, 'score': '0.0'}, {'id': 'https://openalex.org/C86803240', 'wikidata': 'https://www.wikidata.org/wiki/Q420', 'display_name': 'Biology', 'level': 0, 'score': '0.0'}])\n",
      "('mesh', [])\n",
      "('alternate_host_venues', [{'id': 'https://openalex.org/V4306400194', 'display_name': 'Cornell University - arXiv', 'type': 'repository', 'url': 'http://arxiv.org/pdf/1610.02391', 'is_oa': True, 'version': 'submittedVersion', 'license': None}])\n",
      "('referenced_works', ['https://openalex.org/W1586079445', 'https://openalex.org/W1895577753', 'https://openalex.org/W1900913856', 'https://openalex.org/W1903029394', 'https://openalex.org/W1905882502', 'https://openalex.org/W1931639407', 'https://openalex.org/W1933349210', 'https://openalex.org/W1941636933', 'https://openalex.org/W1945608308', 'https://openalex.org/W1982428585', 'https://openalex.org/W1994488211', 'https://openalex.org/W2102605133', 'https://openalex.org/W2142192571', 'https://openalex.org/W2155893237', 'https://openalex.org/W2161381512', 'https://openalex.org/W2163922914', 'https://openalex.org/W2190008860', 'https://openalex.org/W2194775991', 'https://openalex.org/W2257979135', 'https://openalex.org/W2282821441', 'https://openalex.org/W2295107390', 'https://openalex.org/W2962848674', 'https://openalex.org/W2963260436', 'https://openalex.org/W2963758027', 'https://openalex.org/W3037725825'])\n",
      "('related_works', ['https://openalex.org/W1837097281', 'https://openalex.org/W1891287906', 'https://openalex.org/W1969923398', 'https://openalex.org/W2036807459', 'https://openalex.org/W2058170566', 'https://openalex.org/W2079911747', 'https://openalex.org/W2110717643', 'https://openalex.org/W2166024367', 'https://openalex.org/W2755342338', 'https://openalex.org/W2772917594'])\n",
      "('ngrams_url', 'https://api.openalex.org/works/W2962858109/ngrams')\n",
      "('abstract_inverted_index', {'We': [0, 119], 'propose': [1], 'a': [2, 11, 45, 55, 78, 128, 251, 256, 274], 'technique': [3], 'for': [4, 8, 41, 66, 94], 'producing': [5], '‘visual': [6], 'explanations’': [7], 'decisions': [9], 'from': [10, 239, 255], 'large': [12], 'class': [13], 'of': [14, 35, 81, 154, 166], 'Convolutional': [15], 'Neural': [16], 'Network': [17], '(CNN)-based': [18], 'models,': [19, 147, 157], 'making': [20], 'them': [21], 'more': [22, 189], 'transparent.': [23], 'Our': [24, 265], 'approach': [25], '–': [26], 'Gradient-weighted': [27], 'Class': [28], 'Activation': [29], 'Mapping': [30], '(Grad-CAM),': [31], 'uses': [32], 'the': [33, 49, 60, 64, 68, 152, 182, 192], 'gradients': [34], 'any': [36], 'target': [37], 'concept': [38], '(say': [39], 'logits': [40], '‘dog’': [42], 'or': [43, 111, 117], 'even': [44, 213, 259], 'caption),': [46], 'flowing': [47], 'into': [48, 163], 'final': [50], 'convolutional': [51], 'layer': [52], 'to': [53, 77, 126, 137, 191, 227], 'produce': [54], 'coarse': [56], 'localization': [57, 185], 'map': [58], 'highlighting': [59], 'important': [61], 'regions': [62], 'in': [63, 102, 237], 'image': [65, 138, 140, 155, 206], 'predicting': [67], 'concept.': [69], 'Unlike': [70], 'previous': [71, 179], 'approaches,': [72], 'Grad-': [73], 'CAM': [74], 'is': [75, 267], 'applicable': [76], 'wide': [79], 'variety': [80], 'CNN': [82], 'model-families:': [83], '(1)': [84], 'CNNs': [85, 92, 100], 'with': [86, 104, 122, 273], 'fully-connected': [87], 'layers': [88], '(e.g.': [89, 97, 107], 'VGG),': [90], '(2)': [91], 'used': [93, 101], 'structured': [95], 'outputs': [96], 'captioning),': [98], '(3)': [99], 'tasks': [103], 'multi-modal': [105], 'inputs': [106], 'visual': [108, 143], 'question': [109, 144], 'answering)': [110], 'reinforcement': [112], 'learning,': [113], 'without': [114], 'architectural': [115], 'changes': [116], 're-training.': [118], 'combine': [120], 'Grad-CAM': [121, 230, 245], 'existing': [123], 'fine-grained': [124], 'visualizations': [125, 159, 211], 'create': [127], 'high-resolution': [129], 'class-discriminative': [130], 'visualization,': [131], 'Guided': [132], 'Grad-CAM,': [133], 'and': [134, 142, 195, 208, 223, 242, 279], 'apply': [135], 'it': [136], 'classification,': [139], 'captioning,': [141], 'answering': [145], '(VQA)': [146], 'including': [148], 'ResNet-based': [149], 'architectures.': [150], 'In': [151], 'context': [153], 'classification': [156], 'our': [158, 210], '(a)': [160], 'lend': [161], 'insights': [162], 'failure': [164], 'modes': [165], 'these': [167], 'models': [168, 216], '(showing': [169], 'that': [170, 244], 'seemingly': [171], 'unreasonable': [172], 'predictions': [173, 238], 'have': [174], 'reasonable': [175], 'explanations),': [176], '(b)': [177], 'outperform': [178], 'methods': [180], 'on': [181, 276], 'ILSVRC-15': [183], 'weakly-supervised': [184], 'task,': [186], '(c)': [187], 'are': [188], 'faithful': [190], 'underlying': [193], 'model,': [194], '(d)': [196], 'help': [197, 232], 'achieve': [198], 'model': [199], 'generalization': [200], 'by': [201], 'identifying': [202], 'dataset': [203], 'bias.': [204], 'For': [205], 'captioning': [207], 'VQA,': [209], 'show': [212, 243], 'non-attention': [214], 'based': [215], 'can': [217], 'localize': [218], 'inputs.': [219], 'Finally,': [220], 'we': [221], 'design': [222], 'conduct': [224], 'human': [225], 'studies': [226], 'measure': [228], 'if': [229], 'explanations': [231], 'users': [233, 248], 'establish': [234], 'appropriate': [235], 'trust': [236], 'deep': [240, 253], 'networks': [241], 'helps': [246], 'untrained': [247], 'successfully': [249], 'discern': [250], '‘stronger’': [252], 'network': [254], '‘weaker’': [257], 'one': [258], 'when': [260], 'both': [261], 'make': [262], 'identical': [263], 'predictions.': [264], 'code': [266], 'available': [268], 'at': [269, 281], 'https:': [270], '//github.com/ramprs/grad-cam/': [271], 'along': [272], 'demo': [275], 'CloudCV': [277], '[2]': [278], 'video': [280], 'youtu.be/COjUB9Izk6E.': [282]})\n",
      "('cited_by_api_url', 'https://api.openalex.org/works?filter=cites:W2962858109')\n",
      "('counts_by_year', [{'year': 2022, 'cited_by_count': 1061}, {'year': 2021, 'cited_by_count': 1855}, {'year': 2020, 'cited_by_count': 1293}, {'year': 2019, 'cited_by_count': 698}, {'year': 2018, 'cited_by_count': 182}, {'year': 2017, 'cited_by_count': 18}, {'year': 2012, 'cited_by_count': 1}])\n",
      "('updated_date', '2022-10-20T12:07:36.330289')\n",
      "('created_date', '2019-07-30')\n"
     ]
    }
   ],
   "source": [
    "#pull a single entity\n",
    "from diophila import OpenAlex\n",
    "connection = OpenAlex('pduong7@gatech.edu') #input your own email here\n",
    "\n",
    "wfilter = {'authorships.institutions.id':'https://openalex.org/I130701444'}\n",
    "y = connection.get_list_of_works(filters = wfilter, pages = [10], per_page = 1)\n",
    "y = (list(y)[0])['results'][0]\n",
    "for i in y.items():\n",
    "  print(i)"
   ]
  },
  {
   "cell_type": "code",
   "execution_count": null,
   "id": "0ae4656b",
   "metadata": {},
   "outputs": [],
   "source": []
  }
 ],
 "metadata": {
  "kernelspec": {
   "display_name": "Python 3 (ipykernel)",
   "language": "python",
   "name": "python3"
  },
  "language_info": {
   "codemirror_mode": {
    "name": "ipython",
    "version": 3
   },
   "file_extension": ".py",
   "mimetype": "text/x-python",
   "name": "python",
   "nbconvert_exporter": "python",
   "pygments_lexer": "ipython3",
   "version": "3.9.12"
  }
 },
 "nbformat": 4,
 "nbformat_minor": 5
}
